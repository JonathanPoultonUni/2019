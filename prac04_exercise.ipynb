{
 "cells": [
  {
   "cell_type": "markdown",
   "metadata": {},
   "source": [
    "# Exercise 4: Regression\n",
    "\n",
    "---\n",
    "**Written by Hendi Lie (h2.lie@qut.edu.au) and Richi Nayak (r.nayak@qut.edu.au). All rights reserved.**\n",
    "\n",
    "Welcome to the fourth practical exercise for CAB330. Each exercise sheet contains a number of theoretical and programming exercises, designed to strengthen both conceptual and practical understanding of data mining processes in this unit.\n",
    "\n",
    "To answer conceptual questions, write the answer to each question on a paper/note with your reasoning. For programming exercises, open your iPython console/Jupyter notebook and use Python commands/libraries introduced in each practical to answer the questions. In many cases, you will need to write code to support your conceptual answers."
   ]
  },
  {
   "cell_type": "markdown",
   "metadata": {},
   "source": [
    "## 0. Prequisite\n",
    "\n",
    "Perform the following steps before trying the exercises:\n",
    "1. Import pandas as \"pd\" and load the house price dataset into \"df\".\n",
    "2. Print dataset information to refresh your memory.\n",
    "3. Run `preprocess_data` function on the dataframe to perform preprocessing steps discussed last week.\n",
    "4. Split your data into training and test with 70:30 distribution, stratified, random state 0."
   ]
  },
  {
   "cell_type": "markdown",
   "metadata": {},
   "source": [
    "## 1. Standardisation and Logistic Regression\n",
    "\n",
    "Perform following operations and answer the following questions:\n",
    "1. What is the difference between logistic regression and linear regression?\n",
    "2. Describe how logistic regressions \n",
    "3. Perform standardisation on your training and test dataset.\n",
    "4. What does standardisation do to your data? How does it benefit your regression model?\n",
    "5. (Bonus) Why do you think we should fit standardisation model (learn the mean and std.devs) on training data instead of all data (training + test)?\n",
    "6. Fit a logistic regression model to your training data. How does it perform on the training and test data? Do you see any indication of overfitting?\n",
    "7. Use GridSearchCV to tune parameter of your model. What is the performance of the model now?\n",
    "8. What is the most important features in your model?"
   ]
  },
  {
   "cell_type": "markdown",
   "metadata": {},
   "source": [
    "## 2. Input Transformation\n",
    "\n",
    "Perform the following operations and answer the question.\n",
    "1. Find two features/variables with skewness. How could you fix this problem?\n",
    "2. How does recursive feature elimination works?\n",
    "3. Build a decision tree model and use \"select from model\" as the feature selection method. How many features are left in the training data? Does the feature reduction step improve performance of the model?"
   ]
  },
  {
   "cell_type": "markdown",
   "metadata": {},
   "source": [
    "# Answer\n",
    "\n",
    "When you are finished with all exercise questions, the sample answers are available in the following Github repository. Remember, please try the exercises first before viewing the answers.\n",
    "\n",
    "https://github.com/cab330/2019/tree/master/CAB330_answers"
   ]
  }
 ],
 "metadata": {
  "anaconda-cloud": {},
  "kernelspec": {
   "display_name": "Python [default]",
   "language": "python",
   "name": "python3"
  },
  "language_info": {
   "codemirror_mode": {
    "name": "ipython",
    "version": 3
   },
   "file_extension": ".py",
   "mimetype": "text/x-python",
   "name": "python",
   "nbconvert_exporter": "python",
   "pygments_lexer": "ipython3",
   "version": "3.5.5"
  }
 },
 "nbformat": 4,
 "nbformat_minor": 2
}
