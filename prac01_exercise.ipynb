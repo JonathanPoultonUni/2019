{
 "cells": [
  {
   "cell_type": "markdown",
   "metadata": {},
   "source": [
    "# Exercise 1: Basic Dataset Manipulation and Problem Definition\n",
    "\n",
    "---\n",
    "**Written by Hendi Lie (h2.lie@qut.edu.au) and Richi Nayak (r.nayak@qut.edu.au). All rights reserved.**\n",
    "\n",
    "Welcome to the first practical exercise for CAB330. Each exercise sheet contains a number of theoretical and programming exercises, designed to strengthen both conceptual and practical understanding of data mining processes in this unit.\n",
    "\n",
    "To answer conceptual questions, write the answer to each question on a paper/note with your reasoning. For programming exercises, open your iPython console/Jupyter notebook and use Python commands/libraries introduced in each practical to answer the questions. In many cases, you will need to write code to support your conceptual answers."
   ]
  },
  {
   "cell_type": "markdown",
   "metadata": {},
   "source": [
    "## 1. Importing libraries and reading dataset\n",
    "\n",
    "Answer the following questions:\n",
    "1. Please name two libraries commonly used for data visualisation in Python.\n",
    "2. What library do we use for predictive modelling in this unit?\n",
    "3. Please name the steps commonly used in performing predictive mining using Python.\n",
    "\n",
    "Perform the following operations:\n",
    "1. Import pandas library as \"pd\".\n",
    "2. Load the dataset into dataframe variable \"df\". For all predictive modeling exercises, we will use Melbourne house price prediction dataset (\"datasets/melbourne_house_price.csv\").\n",
    "\n",
    "Tips: use `index_col=0` parameter when reading the dataset to avoid creating an unnecessary index column. If you are not sure what this parameter does, read the dataset just as normally and then compare it with using `index_col`."
   ]
  },
  {
   "cell_type": "markdown",
   "metadata": {},
   "source": [
    "## 2. Data wrangling\n",
    "\n",
    "Perform the following operations:\n",
    "1. Print basic information from the dataset.\n",
    "\n",
    "Answer the following questions:\n",
    "1. How many columns are in the dataframe/dataset?\n",
    "2. How many rows/records are in the dataframe/dataset?\n",
    "3. What is the data type of \"Distance\" column?\n",
    "4. We would like to predict if a house in Melbourne is priced very highly (above median). Which column is suitable as a target variable?\n",
    "5. How could stakeholders use insights gained from this data mining process?"
   ]
  },
  {
   "cell_type": "markdown",
   "metadata": {},
   "source": [
    "# Answer\n",
    "\n",
    "When you are finished with all exercise questions, the sample answers are available in the following Github repository. Remember, please try the exercises first before viewing the answers.\n",
    "\n",
    "https://github.com/cab330/2019/tree/master/CAB330_answers"
   ]
  }
 ],
 "metadata": {
  "anaconda-cloud": {},
  "kernelspec": {
   "display_name": "Python [default]",
   "language": "python",
   "name": "python3"
  },
  "language_info": {
   "codemirror_mode": {
    "name": "ipython",
    "version": 3
   },
   "file_extension": ".py",
   "mimetype": "text/x-python",
   "name": "python",
   "nbconvert_exporter": "python",
   "pygments_lexer": "ipython3",
   "version": "3.5.5"
  }
 },
 "nbformat": 4,
 "nbformat_minor": 2
}
