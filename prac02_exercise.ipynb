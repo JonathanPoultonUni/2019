{
 "cells": [
  {
   "cell_type": "markdown",
   "metadata": {},
   "source": [
    "# Exercise 2: Data Preparation\n",
    "\n",
    "---\n",
    "**Written by Hendi Lie (h2.lie@qut.edu.au) and Richi Nayak (r.nayak@qut.edu.au). All rights reserved.**\n",
    "\n",
    "Welcome to the second practical exercise for CAB330. Each exercise sheet contains a number of theoretical and programming exercises, designed to strengthen both conceptual and practical understanding of data mining processes in this unit.\n",
    "\n",
    "To answer conceptual questions, write the answer to each question on a paper/note with your reasoning. For programming exercises, open your iPython console/Jupyter notebook and use Python commands/libraries introduced in each practical to answer the questions. In many cases, you will need to write code to support your conceptual answers."
   ]
  },
  {
   "cell_type": "markdown",
   "metadata": {},
   "source": [
    "## 0. Prequisite\n",
    "\n",
    "Perform the following steps before trying the exercises:\n",
    "1. Import pandas as \"pd\" and load the house price dataset into \"df\".\n",
    "2. Print dataset information to refresh your memory."
   ]
  },
  {
   "cell_type": "markdown",
   "metadata": {},
   "source": [
    "## 1. Exploring data\n",
    "\n",
    "Perform following operations and answer the following questions:\n",
    "1. Describe the key statistics of \"Rooms\" column. What is the mean and median (50% quantile) value of this column?\n",
    "2. Bin the \"Distance\" column into 10 bins. How many houses are in each bin?\n",
    "3. How many unique values are in \"Method\" column? What is the number of occurences for each of these unique values?\n",
    "4. Assume **Price_above_median** is a binary variable of whether a house is priced above the median ($875,000) and **Type** is a categorical variable representing type of the property (house/unit/townhouse). What is the correlation between property type and price above median in this dataset? *Hint: use groupby.*"
   ]
  },
  {
   "cell_type": "markdown",
   "metadata": {},
   "source": [
    "## 2. Plotting\n",
    "\n",
    "Perform the following operations using `matplotlib.pyplot` and `seaborn`. Be mindful of each column type.\n",
    "1. Create a distribution plot for \"Distance\" column.\n",
    "2. Create a distribution plot for \"Type\" column.\n",
    "3. Create a distribution plot for \"Rooms\", grouped by the property type."
   ]
  },
  {
   "cell_type": "markdown",
   "metadata": {},
   "source": [
    "## 3. Correcting errors in data\n",
    "\n",
    "Perform the following operations and answer the following questions:\n",
    "1. By performing data exploration, grouping and plotting, what problems have you revealed with the dataset?\n",
    "2. Do you think **Address** column is useful for the predictive model? Why?\n",
    "3. Impute missing values in **Car** variable. What imputation method will you use, and why?\n",
    "4. Perform one hot encoding for **Type** and **Method** columns.\n",
    "5. What columns do you think is not required here? Drop them.\n",
    "6. What data preparation process can be performed for `Date` and `SellerG`?"
   ]
  },
  {
   "cell_type": "markdown",
   "metadata": {},
   "source": [
    "# Answer\n",
    "\n",
    "When you are finished with all exercise questions, the sample answers are available in the following Github repository. Remember, please try the exercises first before viewing the answers.\n",
    "\n",
    "https://github.com/cab330/2019/tree/master/CAB330_answers"
   ]
  }
 ],
 "metadata": {
  "anaconda-cloud": {},
  "kernelspec": {
   "display_name": "Python [default]",
   "language": "python",
   "name": "python3"
  },
  "language_info": {
   "codemirror_mode": {
    "name": "ipython",
    "version": 3
   },
   "file_extension": ".py",
   "mimetype": "text/x-python",
   "name": "python",
   "nbconvert_exporter": "python",
   "pygments_lexer": "ipython3",
   "version": "3.5.5"
  }
 },
 "nbformat": 4,
 "nbformat_minor": 2
}
