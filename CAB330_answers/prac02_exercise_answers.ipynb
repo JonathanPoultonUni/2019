{
 "cells": [
  {
   "cell_type": "markdown",
   "metadata": {},
   "source": [
    "# Exercise 2: Data Preparation\n",
    "\n",
    "---\n",
    "**Written by Hendi Lie (h2.lie@qut.edu.au) and Richi Nayak (r.nayak@qut.edu.au). All rights reserved.**\n",
    "\n",
    "Welcome to the second practical exercise for CAB330. Each exercise sheet contains a number of theoretical and programming exercises, designed to strengthen both conceptual and practical understanding of data mining processes in this unit.\n",
    "\n",
    "To answer conceptual questions, write the answer to each question on a paper/note with your reasoning. For programming exercises, open your iPython console/Jupyter notebook and use Python commands/libraries introduced in each practical to answer the questions. In many cases, you will need to write code to support your conceptual answers."
   ]
  },
  {
   "cell_type": "markdown",
   "metadata": {},
   "source": [
    "## 0. Prequisite\n",
    "\n",
    "Perform the following steps before trying the exercises:\n",
    "1. Import pandas as \"pd\" and load the house price dataset into \"df\".\n",
    "2. Print dataset information to refresh your memory."
   ]
  },
  {
   "cell_type": "code",
   "execution_count": 1,
   "metadata": {
    "collapsed": true
   },
   "outputs": [],
   "source": [
    "import pandas as pd\n",
    "\n",
    "df = pd.read_csv('datasets/melbourne_house_price.csv', index_col=0)"
   ]
  },
  {
   "cell_type": "code",
   "execution_count": 2,
   "metadata": {
    "collapsed": false
   },
   "outputs": [
    {
     "name": "stdout",
     "output_type": "stream",
     "text": [
      "<class 'pandas.core.frame.DataFrame'>\n",
      "Int64Index: 24197 entries, 0 to 24196\n",
      "Data columns (total 22 columns):\n",
      "Suburb                24197 non-null object\n",
      "Address               24197 non-null object\n",
      "Rooms                 24197 non-null int64\n",
      "Type                  24197 non-null object\n",
      "Price                 24197 non-null float64\n",
      "Method                24197 non-null object\n",
      "SellerG               24197 non-null object\n",
      "Date                  24197 non-null object\n",
      "Distance              24196 non-null float64\n",
      "Postcode              24196 non-null float64\n",
      "Bedroom2              18673 non-null float64\n",
      "Bathroom              18669 non-null float64\n",
      "Car                   18394 non-null float64\n",
      "Landsize              15946 non-null float64\n",
      "BuildingArea          9609 non-null float64\n",
      "YearBuilt             10961 non-null float64\n",
      "CouncilArea           24194 non-null object\n",
      "Lattitude             18843 non-null float64\n",
      "Longtitude            18843 non-null float64\n",
      "Regionname            24194 non-null object\n",
      "Propertycount         24194 non-null float64\n",
      "Price_above_median    24197 non-null int64\n",
      "dtypes: float64(12), int64(2), object(8)\n",
      "memory usage: 4.2+ MB\n"
     ]
    }
   ],
   "source": [
    "df.info()"
   ]
  },
  {
   "cell_type": "markdown",
   "metadata": {},
   "source": [
    "## 1. Exploring data\n",
    "\n",
    "Perform following operations and answer the following questions:\n",
    "1. Describe the key statistics of \"Rooms\" column. What is the mean and median (50% quantile) value of this column?\n",
    "2. Bin the \"Distance\" column into 10 bins. How many houses are in each bin?\n",
    "3. How many unique values are in \"Method\" column? What is the number of occurences for each of these unique values?\n",
    "4. Assume **Price_above_median** is a binary variable of whether a house is priced above the median ($875,000) and **Type** is a categorical variable representing type of the property (house/unit/townhouse). What is the correlation between property type and price above median in this dataset? *Hint: use groupby.*"
   ]
  },
  {
   "cell_type": "code",
   "execution_count": 3,
   "metadata": {
    "collapsed": false
   },
   "outputs": [
    {
     "data": {
      "text/plain": [
       "count    24197.000000\n",
       "mean         2.979874\n",
       "std          0.960262\n",
       "min          1.000000\n",
       "25%          2.000000\n",
       "50%          3.000000\n",
       "75%          4.000000\n",
       "max         16.000000\n",
       "Name: Rooms, dtype: float64"
      ]
     },
     "execution_count": 3,
     "metadata": {},
     "output_type": "execute_result"
    }
   ],
   "source": [
    "# 1. key statistics of rooms\n",
    "df['Rooms'].describe()"
   ]
  },
  {
   "cell_type": "code",
   "execution_count": 4,
   "metadata": {
    "collapsed": false
   },
   "outputs": [
    {
     "data": {
      "text/plain": [
       "(9.62, 14.43]      7857\n",
       "(4.81, 9.62]       7683\n",
       "(-0.0491, 4.81]    3476\n",
       "(14.43, 19.24]     2817\n",
       "(19.24, 24.05]     1209\n",
       "(24.05, 28.86]      541\n",
       "(28.86, 33.67]      271\n",
       "(33.67, 38.48]      265\n",
       "(43.29, 48.1]        59\n",
       "(38.48, 43.29]       18\n",
       "Name: Distance, dtype: int64"
      ]
     },
     "execution_count": 4,
     "metadata": {},
     "output_type": "execute_result"
    }
   ],
   "source": [
    "# 2. number of houses in each bin, derived from \"Distance\" column\n",
    "df['Distance'].value_counts(bins=10)"
   ]
  },
  {
   "cell_type": "code",
   "execution_count": 5,
   "metadata": {
    "collapsed": false
   },
   "outputs": [
    {
     "data": {
      "text/plain": [
       "S     15684\n",
       "SP     3171\n",
       "PI     2854\n",
       "VB     2320\n",
       "SA      168\n",
       "Name: Method, dtype: int64"
      ]
     },
     "execution_count": 5,
     "metadata": {},
     "output_type": "execute_result"
    }
   ],
   "source": [
    "# 3. How many unique values in method and number of occurences for each of these values\n",
    "df['Method'].value_counts()"
   ]
  },
  {
   "cell_type": "code",
   "execution_count": 6,
   "metadata": {
    "collapsed": false
   },
   "outputs": [
    {
     "data": {
      "text/plain": [
       "Type  Price_above_median\n",
       "h     1                     10293\n",
       "      0                      6010\n",
       "t     0                      1373\n",
       "      1                      1172\n",
       "u     0                      4732\n",
       "      1                       617\n",
       "Name: Price_above_median, dtype: int64"
      ]
     },
     "execution_count": 6,
     "metadata": {},
     "output_type": "execute_result"
    }
   ],
   "source": [
    "# 4. Correlation between property type and price above median\n",
    "df.groupby(['Type'])['Price_above_median'].value_counts()"
   ]
  },
  {
   "cell_type": "markdown",
   "metadata": {},
   "source": [
    "## 2. Plotting\n",
    "\n",
    "Perform the following operations using `matplotlib.pyplot` and `seaborn`. Be mindful of each column type.\n",
    "1. Create a distribution plot for \"Distance\" column.\n",
    "2. Create a distribution plot for \"Type\" column.\n",
    "3. Create a distribution plot for \"Rooms\", grouped by the property type."
   ]
  },
  {
   "cell_type": "code",
   "execution_count": 7,
   "metadata": {
    "collapsed": true
   },
   "outputs": [],
   "source": [
    "import matplotlib.pyplot as plt\n",
    "import seaborn as sns"
   ]
  },
  {
   "cell_type": "code",
   "execution_count": 8,
   "metadata": {
    "collapsed": false
   },
   "outputs": [
    {
     "data": {
      "image/png": "[encoded data removed]",
      "text/plain": [
       "<matplotlib.figure.Figure at 0x24178470>"
      ]
     },
     "metadata": {},
     "output_type": "display_data"
    }
   ],
   "source": [
    "# distribution plot for the numerical column of \"Distance\"\n",
    "g = sns.distplot(df['Distance'].dropna())\n",
    "plt.show()"
   ]
  },
  {
   "cell_type": "code",
   "execution_count": 9,
   "metadata": {
    "collapsed": false
   },
   "outputs": [
    {
     "data": {
      "image/png": "[encoded data removed]",
      "text/plain": [
       "<matplotlib.figure.Figure at 0x39f5eb8>"
      ]
     },
     "metadata": {},
     "output_type": "display_data"
    }
   ],
   "source": [
    "# distribution plot for the categorical column of \"Type\"\n",
    "g = sns.countplot(data = df, x = 'Type')\n",
    "plt.show()"
   ]
  },
  {
   "cell_type": "code",
   "execution_count": 10,
   "metadata": {
    "collapsed": false
   },
   "outputs": [
    {
     "data": {
      "image/png": "[encoded data removed]",
      "text/plain": [
       "<matplotlib.figure.Figure at 0x262b2c88>"
      ]
     },
     "metadata": {},
     "output_type": "display_data"
    }
   ],
   "source": [
    "# distribution plot of rooms, grouped by property type\n",
    "g = sns.boxplot(x='Type', y='Rooms', data=df)\n",
    "plt.show()"
   ]
  },
  {
   "cell_type": "markdown",
   "metadata": {},
   "source": [
    "## 3. Correcting errors in data\n",
    "\n",
    "Perform the following operations and answer the following questions:\n",
    "1. By performing data exploration, grouping and plotting, what problems have you revealed with the dataset?\n",
    "2. Do you think **Address** column is useful for the predictive model? Why?\n",
    "3. Impute missing values in **Car** variable. What imputation method will you use, and why?\n",
    "4. Perform one hot encoding for **Type** and **Method** columns.\n",
    "5. What columns do you think is not required here? Drop them.\n",
    "6. What data preparation process can be performed for `Date` and `SellerG`?"
   ]
  },
  {
   "cell_type": "markdown",
   "metadata": {},
   "source": [
    "### Answer\n",
    "\n",
    "**[Question 1]** Firstly, pay attention to dataset information. There are missing values in **Bedroom2, Bathroom, Car, Landslide, BuildingArea, YearBuilt, CouncilArea, Latitude, Longitude, RegionName, PropertyCount.** Ratio of missing values in these columns are different, thus the technique of choice for fixing them will be different too.\n",
    "\n",
    "You can choose different process to apply if you can back it up with valid reasons. For this exercise, we will apply the following techniques:\n",
    "1. **Dropping rows with missing values**, applied to **Distance, Postcode, CouncilArea, Regionname and Propertycount**. These columns have relatively low number of missing values, thus removing rows with missing values is a simple approach that will not significantly impact data available for analysis.\n",
    "2. **Imputation**, applied to **Bathroom** and **Car**. There are more missing values in these columns, however removing them completely will reduce amount of information significantly. We could also reasonably approximate these variables, making them suitable for imputation.\n",
    "3. **Flagging** for **Lattitude** and **Longtitude**. While the rate of missing values in these two columns are similar with **Bathroom** and **Car**, approximating location of houses is much harder. Therefore, creating new columns of **Latitude_nan** and **Longtitude_nan**, denoting presence of missing values in respective column, can be a suitable approach.\n",
    "4. **Drop columns**, for **Landsize, BuildingArea and YearBuilt**. All three columns have significant ratio of missing values, thus dropping them is necessary.\n",
    "\n",
    "**[Question 2]** Address column is very specific to each house. Building a model on specific addresses can result in an overfitting model, thus we should not include it in the analysis.\n",
    "\n",
    "**[Question 3]** **Car** is a interval variable. Both median and mean can be a valid imputations strategy.\n",
    "\n",
    "**[Question 4]** As follows.\n",
    "\n",
    "**[Question 5]** We have decided to drop **Address, Landsize, BuildingArea and YearBuilt**. Other columns that is not required will be **Price**, as the objective of this exercise is to simply predict whether the price is above median or not (binary classification). Predicting an interval variable like **Price** will be a regression task instead of classification.\n",
    "\n",
    "**[Question 6]** Looking at `Date` and `SellerG`, there are a number of techniques that can be applied. For date/time variables, most models cannot utilise raw data. Thus, commonly a date is preprocessed and represented in different format, for example week/month to understand whether houses are more expensive at certain time in the year. In regards to `SellerG`, the problem is the number of levels/unique values in the variable. There are ~330 unique sellers, with some of them only selling few houses. In addition, new sellers can emerge in future data very easily, thus training models to seller names can reduces robustness of the model. There are steps that can be taken to fix this (e.g. only including top N/big sellers), but for simplicity we will simply drop this variable.\n",
    "\n",
    "\n",
    "Code to perform all mentioned actions is as follow:"
   ]
  },
  {
   "cell_type": "code",
   "execution_count": 11,
   "metadata": {
    "collapsed": true
   },
   "outputs": [],
   "source": [
    "def preprocess_data(df):\n",
    "    # Q1.4 and Q6.2\n",
    "    df = df.drop(['Address', 'Landsize', 'BuildingArea', 'YearBuilt', 'Price', 'Bedroom2', 'SellerG'], axis=1)\n",
    "    \n",
    "    # Q1.1\n",
    "    cols_miss_drop =['Postcode', 'CouncilArea', 'Regionname', 'Propertycount']\n",
    "    mask = pd.isnull(df['Distance'])\n",
    "\n",
    "    for col in cols_miss_drop:\n",
    "        mask = mask | pd.isnull(df[col])\n",
    "\n",
    "    df = df[~mask]\n",
    "    \n",
    "    # Q1.2\n",
    "    df['Bathroom'].fillna(df['Bathroom'].mean(), inplace=True)\n",
    "    df['Car'].fillna(df['Car'].mean(), inplace=True)\n",
    "    \n",
    "    df['Latitude_nan'] = pd.isnull(df['Lattitude'])\n",
    "    df['Longtitude_nan'] = pd.isnull(df['Longtitude'])\n",
    "    df['Lattitude'].fillna(0, inplace=True)\n",
    "    df['Longtitude'].fillna(0, inplace=True)\n",
    "    \n",
    "    # Q6.1. Change date into weeks and months\n",
    "    df['Sales_week'] = pd.to_datetime(df['Date']).dt.week\n",
    "    df['Sales_month'] = pd.to_datetime(df['Date']).dt.month\n",
    "    df = df.drop(['Date'], axis=1)  # drop the date, not required anymore\n",
    "    \n",
    "    # Q4\n",
    "    df = pd.get_dummies(df)\n",
    "    \n",
    "    return df"
   ]
  },
  {
   "cell_type": "code",
   "execution_count": 12,
   "metadata": {
    "collapsed": false
   },
   "outputs": [
    {
     "name": "stdout",
     "output_type": "stream",
     "text": [
      "<class 'pandas.core.frame.DataFrame'>\n",
      "Int64Index: 24194 entries, 0 to 24196\n",
      "Columns: 402 entries, Rooms to Regionname_Western Victoria\n",
      "dtypes: bool(2), float64(7), int64(4), uint8(389)\n",
      "memory usage: 11.2 MB\n"
     ]
    }
   ],
   "source": [
    "df2 = preprocess_data(df)\n",
    "df2.info()"
   ]
  },
  {
   "cell_type": "markdown",
   "metadata": {},
   "source": [
    "The dataset has expanded into ~400 columns, mostly consisting of one-hot variables from `Suburb`."
   ]
  },
  {
   "cell_type": "markdown",
   "metadata": {},
   "source": [
    "# Answer\n",
    "\n",
    "When you are finished with all exercise questions, the sample answers are available in the following Github repository. Remember, please try the exercises first before viewing the answers.\n",
    "\n",
    "https://github.com/cab330/2019/tree/master/CAB330_answers"
   ]
  }
 ],
 "metadata": {
  "anaconda-cloud": {},
  "kernelspec": {
   "display_name": "Python [default]",
   "language": "python",
   "name": "python3"
  },
  "language_info": {
   "codemirror_mode": {
    "name": "ipython",
    "version": 3
   },
   "file_extension": ".py",
   "mimetype": "text/x-python",
   "name": "python",
   "nbconvert_exporter": "python",
   "pygments_lexer": "ipython3",
   "version": "3.5.5"
  }
 },
 "nbformat": 4,
 "nbformat_minor": 2
}
